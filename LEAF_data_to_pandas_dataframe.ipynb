{
 "cells": [
  {
   "cell_type": "markdown",
   "metadata": {},
   "source": [
    "## This is a simple guide on how to load LEAF data as a pandas dataframe for analysis."
   ]
  },
  {
   "cell_type": "markdown",
   "metadata": {},
   "source": [
    "You may need to install numpy, pandas, xarray and netcdf4 packages to your environment."
   ]
  },
  {
   "cell_type": "code",
   "execution_count": 1,
   "metadata": {
    "collapsed": false
   },
   "outputs": [],
   "source": [
    "import numpy as np\n",
    "import pandas as pd\n",
    "import xarray as xr\n",
    "\n",
    "import matplotlib.pyplot as plt\n",
    "%matplotlib inline"
   ]
  },
  {
   "cell_type": "markdown",
   "metadata": {},
   "source": [
    "Downloading the datafile to the working directory. find the links to all the datafiles here: https://github.com/OpenDataLanka/Datasets"
   ]
  },
  {
   "cell_type": "code",
   "execution_count": null,
   "metadata": {
    "collapsed": true
   },
   "outputs": [],
   "source": [
    "!wget https://storage.googleapis.com/leaf-data/raw_data/MCD15A2H.006_2002.nc4\n"
   ]
  },
  {
   "cell_type": "code",
   "execution_count": 14,
   "metadata": {
    "collapsed": false
   },
   "outputs": [],
   "source": [
    "mcd15a2h_006_2002 = xr.open_dataset('../MCD15A2H.006_2002.nc4')\n"
   ]
  },
  {
   "cell_type": "code",
   "execution_count": 15,
   "metadata": {
    "collapsed": false
   },
   "outputs": [],
   "source": [
    "df = mcd15a2h_006_2002.to_dataframe()"
   ]
  },
  {
   "cell_type": "code",
   "execution_count": 16,
   "metadata": {
    "collapsed": false
   },
   "outputs": [
    {
     "data": {
      "text/html": [
       "<div>\n",
       "<table border=\"1\" class=\"dataframe\">\n",
       "  <thead>\n",
       "    <tr style=\"text-align: right;\">\n",
       "      <th></th>\n",
       "      <th>N_lat</th>\n",
       "      <th>N_lon</th>\n",
       "      <th>time</th>\n",
       "      <th>latitude</th>\n",
       "      <th>longitude</th>\n",
       "      <th>YYYYMMDD</th>\n",
       "      <th>LAI</th>\n",
       "      <th>FPAR</th>\n",
       "      <th>FparLai_QC</th>\n",
       "      <th>FparExtra_QC</th>\n",
       "    </tr>\n",
       "  </thead>\n",
       "  <tbody>\n",
       "    <tr>\n",
       "      <th>0</th>\n",
       "      <td>0</td>\n",
       "      <td>0</td>\n",
       "      <td>0</td>\n",
       "      <td>5.502083</td>\n",
       "      <td>79.502083</td>\n",
       "      <td>b'20020704'</td>\n",
       "      <td>1</td>\n",
       "      <td>24</td>\n",
       "      <td>10</td>\n",
       "      <td>35</td>\n",
       "    </tr>\n",
       "    <tr>\n",
       "      <th>1</th>\n",
       "      <td>0</td>\n",
       "      <td>0</td>\n",
       "      <td>1</td>\n",
       "      <td>5.502083</td>\n",
       "      <td>79.502083</td>\n",
       "      <td>b'20020712'</td>\n",
       "      <td>1</td>\n",
       "      <td>89</td>\n",
       "      <td>40</td>\n",
       "      <td>35</td>\n",
       "    </tr>\n",
       "    <tr>\n",
       "      <th>2</th>\n",
       "      <td>0</td>\n",
       "      <td>0</td>\n",
       "      <td>2</td>\n",
       "      <td>5.502083</td>\n",
       "      <td>79.502083</td>\n",
       "      <td>b'20020720'</td>\n",
       "      <td>1</td>\n",
       "      <td>59</td>\n",
       "      <td>8</td>\n",
       "      <td>35</td>\n",
       "    </tr>\n",
       "    <tr>\n",
       "      <th>3</th>\n",
       "      <td>0</td>\n",
       "      <td>0</td>\n",
       "      <td>3</td>\n",
       "      <td>5.502083</td>\n",
       "      <td>79.502083</td>\n",
       "      <td>b'20020728'</td>\n",
       "      <td>1</td>\n",
       "      <td>21</td>\n",
       "      <td>8</td>\n",
       "      <td>35</td>\n",
       "    </tr>\n",
       "    <tr>\n",
       "      <th>4</th>\n",
       "      <td>0</td>\n",
       "      <td>0</td>\n",
       "      <td>4</td>\n",
       "      <td>5.502083</td>\n",
       "      <td>79.502083</td>\n",
       "      <td>b'20020805'</td>\n",
       "      <td>1</td>\n",
       "      <td>87</td>\n",
       "      <td>42</td>\n",
       "      <td>35</td>\n",
       "    </tr>\n",
       "  </tbody>\n",
       "</table>\n",
       "</div>"
      ],
      "text/plain": [
       "   N_lat  N_lon  time  latitude  longitude     YYYYMMDD  LAI  FPAR  \\\n",
       "0      0      0     0  5.502083  79.502083  b'20020704'    1    24   \n",
       "1      0      0     1  5.502083  79.502083  b'20020712'    1    89   \n",
       "2      0      0     2  5.502083  79.502083  b'20020720'    1    59   \n",
       "3      0      0     3  5.502083  79.502083  b'20020728'    1    21   \n",
       "4      0      0     4  5.502083  79.502083  b'20020805'    1    87   \n",
       "\n",
       "   FparLai_QC  FparExtra_QC  \n",
       "0          10            35  \n",
       "1          40            35  \n",
       "2           8            35  \n",
       "3           8            35  \n",
       "4          42            35  "
      ]
     },
     "execution_count": 16,
     "metadata": {},
     "output_type": "execute_result"
    }
   ],
   "source": [
    "flattened = pd.DataFrame(df.to_records())\n",
    "flattened.head()"
   ]
  }
 ],
 "metadata": {
  "anaconda-cloud": {},
  "kernelspec": {
   "display_name": "Python [Root]",
   "language": "python",
   "name": "Python [Root]"
  },
  "language_info": {
   "codemirror_mode": {
    "name": "ipython",
    "version": 3
   },
   "file_extension": ".py",
   "mimetype": "text/x-python",
   "name": "python",
   "nbconvert_exporter": "python",
   "pygments_lexer": "ipython3",
   "version": "3.5.2"
  }
 },
 "nbformat": 4,
 "nbformat_minor": 0
}
